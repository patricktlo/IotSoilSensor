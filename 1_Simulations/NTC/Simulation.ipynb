{
 "cells": [
  {
   "cell_type": "markdown",
   "metadata": {},
   "source": [
    "# NTC Simulation\n",
    "\n",
    "In this file, the choice for the NTC linearization is made.\n",
    "\n",
    "Change V to test other voltages\n",
    "\n",
    "$$R_{ntc} = R_0 \\cdot exp(\\beta\\cdot(\\frac{1}{T} - \\frac{1}{Tref}))$$\n",
    "\n",
    "Note that the circuit used is the following:\n",
    "        ______\n",
    "Vcc ---| Rntc |----|---- Vout\n",
    "       --------    | \n",
    "                 |---|\n",
    "                 | Rs|\n",
    "                 |___|\n",
    "                   |\n",
    "                   |\n",
    "                  GND\n"
   ]
  },
  {
   "cell_type": "code",
   "execution_count": 2,
   "metadata": {},
   "outputs": [
    {
     "data": {
      "text/plain": [
       "Text(0,0.5,'Resistência NTC(Ohms)')"
      ]
     },
     "execution_count": 2,
     "metadata": {},
     "output_type": "execute_result"
    }
   ],
   "source": [
    "import numpy as np\n",
    "import matplotlib.pyplot as plt\n",
    "import pandas as pd\n",
    "\n",
    "# Values for NTC\n",
    "R0 = 10e3\n",
    "beta = 3435\n",
    "Tref = 25 + 273\n",
    "\n",
    "# Voltage for power calculation\n",
    "V = 3.0\n",
    "\n",
    "T = np.linspace(-10, 50, 500)\n",
    "\n",
    "# Compute NTC resistance based on temperature\n",
    "Rntc = R0 * np.exp( beta * ((1/(T+273)) - (1/Tref)) )\n",
    "\n",
    "plt.plot(T, Rntc)\n",
    "plt.xlabel(\"Temperatura ($\\degree C$)\")\n",
    "plt.ylabel(\"Resistência NTC(Ohms)\")\n",
    "\n"
   ]
  },
  {
   "cell_type": "markdown",
   "metadata": {},
   "source": [
    "# Plotting\n",
    "\n",
    "In this cell, the curve for Vout is plotted against a linearized one (around 25 C), and against a 3rd order polynomial.\n",
    "\n",
    "Errors, power dissipation and temperature are plotted as well.\n",
    "\n",
    "To test new resistance values for Rs, add it to Rs_values List."
   ]
  },
  {
   "cell_type": "code",
   "execution_count": 3,
   "metadata": {},
   "outputs": [
    {
     "data": {
      "text/plain": [
       "7042.917390225751"
      ]
     },
     "execution_count": 3,
     "metadata": {},
     "output_type": "execute_result"
    }
   ],
   "source": [
    "\n",
    "Rs_ideal = 10e3 * (beta - 2*Tref)/(beta + 2*Tref)\n",
    "Rs_ideal"
   ]
  },
  {
   "cell_type": "code",
   "execution_count": 4,
   "metadata": {},
   "outputs": [
    {
     "name": "stdout",
     "output_type": "stream",
     "text": [
      "Slope:0.00936906604987231\n",
      " b: 0.17857071768986288\n",
      "error 2 = 0.00020368417761111124\n",
      "Slope:0.0096669087783645\n",
      " b: 0.25939273552869324\n",
      "error 2 = 0.00010261122040286608\n"
     ]
    }
   ],
   "source": [
    "# Possible values for Rs\n",
    "Rs_values = [7.0e3, 10e3]\n",
    "\n",
    "\n",
    "for Rs in Rs_values:\n",
    "    # Compute Vout based on NTC and \n",
    "    Vout = Rs/(Rs+Rntc)\n",
    "\n",
    "    # Get slope at 25 C\n",
    "    \n",
    "    linearize_point = int(np.where( (T > 25.0) & (T<25.12))[0])\n",
    "    \n",
    "    slopeT = (Vout[linearize_point] - Vout[linearize_point - 1]) / (T[linearize_point]-T[linearize_point-1])\n",
    "    bT = Vout[linearize_point]-slopeT*25\n",
    "    \n",
    "    print(\"Slope:{}\\n b: {}\".format(slopeT, bT))\n",
    "\n",
    "    # Linearize around 25 C\n",
    "    linVout = slopeT*T + bT\n",
    "    \n",
    "\n",
    "    # Make a 3rd order polynomial for approx\n",
    "    z = np.polyfit(Vout,T,3)\n",
    "    p = np.poly1d(z)\n",
    "\n",
    "    # Start plotting figures\n",
    "    \n",
    "    plt.rcParams['figure.figsize'] = [10, 5]\n",
    "    plt.figure()\n",
    "\n",
    "    plt.suptitle('Rs = {}'.format(Rs))\n",
    "\n",
    "    \n",
    "    # --- Real and linearized curve\n",
    "    plt.subplot(2,3,1)\n",
    "\n",
    "    # Plot real curve\n",
    "    plt.plot(T, Vout, 'b')\n",
    "    # Plot linearized curve\n",
    "    plt.plot(T, linVout, 'g--')\n",
    "    plt.xlabel('Temperature ($\\degree$C)')\n",
    "    plt.ylabel('Output (normalized)')\n",
    "\n",
    "    plt.title('Real vs linearized curve')\n",
    "\n",
    "    # --- Real and linearized curve error\n",
    "    plt.subplot(2,3,2)\n",
    "\n",
    "    # Plot error curve\n",
    "    plt.plot(T, (Vout - linVout), 'b')\n",
    "\n",
    "    plt.title('Real vs linearized curve error')\n",
    "\n",
    "    plt.xlabel('Temperature ($\\degree$C)')\n",
    "    plt.ylabel('Error (normalized)')\n",
    "    \n",
    "    print(\"error 2 = {}\".format(np.mean((Vout-linVout)**2)))\n",
    "    \n",
    "    plt.subplot(2,3,3)\n",
    "\n",
    "    # Plot power on NTC\n",
    "    PowerNTC = ((V**2)*(1-Vout)/(Rs+Rntc))*1000\n",
    "    plt.plot(T, PowerNTC, 'b')\n",
    "\n",
    "    plt.title('Power dissipation in NTC')\n",
    "\n",
    "    plt.xlabel('Temperature ($\\degree$C)')\n",
    "    plt.ylabel('Power (mW)')\n",
    "\n",
    "    # --- Real and polynomial approximation\n",
    "    plt.subplot(2,3,4)\n",
    "\n",
    "    # Plot real curve\n",
    "    plt.plot(T, Vout, 'b')\n",
    "    # Plot polynomial curve\n",
    "    plt.plot(T, p(T), 'g--')\n",
    "\n",
    "    plt.xlabel('Temperature ($\\degree$C)')\n",
    "    plt.ylabel('Output (normalized)')\n",
    "\n",
    "    plt.title('Real vs polynomial curve')\n",
    "\n",
    "    # --- Real and polynomial approximation error\n",
    "    plt.subplot(2,3,5)\n",
    "\n",
    "    # Plot real curve\n",
    "    plt.plot(T, (Vout - p(T)), 'b')\n",
    "\n",
    "    plt.title('Real vs polynomial curve error')\n",
    "    plt.xlabel('Temperature ($\\degree$C)')\n",
    "    plt.ylabel('Error (normalized)')\n",
    "    \n",
    "    # Plot temperature increase on NTC\n",
    "    plt.subplot(2,3,6)\n",
    "    powerDissipation = 2.5 # mW/C\n",
    "    plt.plot(T, PowerNTC/powerDissipation, 'b')\n",
    "\n",
    "    plt.title('Temperature increase in NTC')\n",
    "\n",
    "    plt.xlabel('Temperature ($\\degree$C)')\n",
    "    plt.ylabel('Temperature change ($\\degree$C)')\n",
    "\n",
    "    plt.tight_layout()\n",
    "\n"
   ]
  },
  {
   "cell_type": "code",
   "execution_count": 24,
   "metadata": {},
   "outputs": [
    {
     "name": "stdout",
     "output_type": "stream",
     "text": [
      "-0.608086323423\n"
     ]
    }
   ],
   "source": [
    "\n",
    "adc_val = 10/(10+29.5) #1400\n",
    "\n",
    "#Vo = slopeT*T + bT\n",
    "temp = (adc_val/4095 - bT) / slopeT\n",
    "\n",
    "print(p(adc_val))"
   ]
  },
  {
   "cell_type": "code",
   "execution_count": 9,
   "metadata": {},
   "outputs": [
    {
     "data": {
      "text/plain": [
       "array([ 174.32462797, -220.79140415,  193.12206875,  -38.1772954 ])"
      ]
     },
     "execution_count": 9,
     "metadata": {},
     "output_type": "execute_result"
    }
   ],
   "source": [
    "z"
   ]
  },
  {
   "cell_type": "markdown",
   "metadata": {},
   "source": [
    "# Testing input and output impedance\n",
    "\n",
    "slopeT"
   ]
  }
 ],
 "metadata": {
  "kernelspec": {
   "display_name": "Python 3",
   "language": "python",
   "name": "python3"
  },
  "language_info": {
   "codemirror_mode": {
    "name": "ipython",
    "version": 3
   },
   "file_extension": ".py",
   "mimetype": "text/x-python",
   "name": "python",
   "nbconvert_exporter": "python",
   "pygments_lexer": "ipython3",
   "version": "3.6.3"
  }
 },
 "nbformat": 4,
 "nbformat_minor": 2
}
